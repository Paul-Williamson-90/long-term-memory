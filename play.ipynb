{
 "cells": [
  {
   "cell_type": "code",
   "execution_count": null,
   "metadata": {},
   "outputs": [],
   "source": [
    "from src import MemoryInterface\n",
    "\n",
    "memory = MemoryInterface()"
   ]
  },
  {
   "cell_type": "code",
   "execution_count": null,
   "metadata": {},
   "outputs": [],
   "source": [
    "user_id = memory.find_user(\"Paul\")\n",
    "if not user_id:\n",
    "    user_id = memory.create_user(\"Paul\")"
   ]
  },
  {
   "cell_type": "code",
   "execution_count": null,
   "metadata": {},
   "outputs": [],
   "source": [
    "memory.add_memory(\n",
    "    text=\"On a sunny day, I went to the beach with my friends.\",\n",
    "    category=\"holiday\",\n",
    "    user_id=user_id,\n",
    ")\n",
    "memory.add_memory(\n",
    "    text=\"It was a rainyy day, and I stayed indoors.\",\n",
    "    category=\"holiday\",\n",
    "    user_id=user_id,\n",
    ")\n",
    "memory.add_memory(\n",
    "    text=\"I had a great time at the amusement park with my family.\",\n",
    "    category=\"holiday\",\n",
    "    user_id=user_id,\n",
    ")\n",
    "memory.add_memory(\n",
    "    text=\"I went to the beach with my friends.\",\n",
    "    category=\"holiday\",\n",
    "    user_id=user_id,\n",
    ")\n",
    "memory.add_memory(\n",
    "    text=\"I went to the amusement park with my family.\",\n",
    "    category=\"holiday\",\n",
    "    user_id=user_id,\n",
    ")\n",
    "memory.add_memory(\n",
    "    text=\"I went to the zoo with my family.\",\n",
    "    category=\"holiday\",\n",
    "    user_id=user_id,\n",
    ")\n",
    "memory.add_memory(\n",
    "    text=\"I went to the zoo with my friends.\",\n",
    "    category=\"holiday\",\n",
    "    user_id=user_id,\n",
    ")\n",
    "memory.add_memory(\n",
    "    text=\"In Portugal, I drank a lot of wine.\",\n",
    "    category=\"holiday\",\n",
    "    user_id=user_id,\n",
    ")"
   ]
  },
  {
   "cell_type": "code",
   "execution_count": null,
   "metadata": {},
   "outputs": [],
   "source": [
    "results = memory.search(query=\"holiday at the beach\", user_id=user_id, category=\"holiday\")"
   ]
  },
  {
   "cell_type": "code",
   "execution_count": null,
   "metadata": {},
   "outputs": [],
   "source": [
    "print(\"\\n\\n\".join([str(x) for x in results.memories]))"
   ]
  }
 ],
 "metadata": {
  "kernelspec": {
   "display_name": ".venv",
   "language": "python",
   "name": "python3"
  },
  "language_info": {
   "codemirror_mode": {
    "name": "ipython",
    "version": 3
   },
   "file_extension": ".py",
   "mimetype": "text/x-python",
   "name": "python",
   "nbconvert_exporter": "python",
   "pygments_lexer": "ipython3",
   "version": "3.13.2"
  }
 },
 "nbformat": 4,
 "nbformat_minor": 2
}
